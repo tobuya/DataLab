{
 "cells": [
  {
   "cell_type": "markdown",
   "metadata": {},
   "source": [
    "# 2020 TO 2023 US Congress members' stock transactions analysis"
   ]
  },
  {
   "cell_type": "markdown",
   "metadata": {},
   "source": [
    "## Table of Contents\n",
    "- [Introduction and Posing Questions](#intro)\n",
    "- [Data Collection and Wrangling](#wrangle)\n",
    "- [Exploratory Data Analysis](#eda)\n",
    "   - [Statistics](#stats)\n",
    "   - [Visualizations](#visuals)\n",
    "- [Statistical Analysis](#statistical)"
   ]
  },
  {
   "attachments": {},
   "cell_type": "markdown",
   "metadata": {},
   "source": [
    "<a id=\"intro\"></a>\n",
    "## Introduction and Posing Questions\n",
    "\n",
    "In this project, I will perform exploratory data analysis on the data provided by [House Stock Watcher](https://housestockwatcher.com/api) on the US Congress members' stock transactions for the years 2020, 2021, 2022, and 2023. The dataset includes various columns providing information on disclosure dates, transaction dates, asset details, transaction types, amounts, and other relevant attributes.\n",
    "I seek to uncover patterns, trends, and potential conflicts of interest within the data. As a result, I have developed thought-provoking questions that can guide my analysis and uncover meaningful insights:\n",
    "\n",
    "1. What are the primary motivations driving Congress members' stock transactions?\n",
    "   - How do demographic factors such as party affiliation, and state influence trading activities?\n",
    "   - Are there noticeable patterns in trading behavior based on transaction types such as purchases or sales?\n",
    "   - Can we identify any correlation such as transaction amount and party affiliations?  \n",
    "2. Are there observable trends in the frequency and volumes of stock transactions over multiple years?\n",
    "   - Do certain years exhibit higher trading activities among Congress members, and if so, what factors might contribute to these fluctuations?\n",
    "   - How does transaction volume vary across different sectors and industries, are there sectors that Congress members show a particular interest in?\n",
    "   - Can we identify any anomalies or spikes in trading activities that warrant further investigation? \n",
    "3. Can we analyze the performance of Congress members' stock portfolios and identify any notable trends?\n",
    "   - How do capital gain from stock transactions vary across different party affiliations?\n",
    "   - Are there sectors that Congress members consistently realize higher capital gains, and what factors might explain these trends?\n",
    "4. How can we cross-analyze trends between data dimensions to uncover deeper insights?\n",
    "   - Are there correlations between transaction frequencies and demographic factors such as party affiliations?\n",
    "   - How do sector-specific trends in stock transactions correlate with party affiliations?\n",
    "   - Can we identify any systematic biases or patterns in trading activities that warrant further investigations?\n",
    "     "
   ]
  },
  {
   "cell_type": "markdown",
   "metadata": {},
   "source": [
    "<a id=\"wrangle\"></a>\n",
    "## Data Collection and Wrangling"
   ]
  },
  {
   "cell_type": "markdown",
   "metadata": {},
   "source": [
    "The data utilized in this project is sourced from [House Stock Watcher](https://housestockwatcher.com), offering comprehensive stock transaction information of US Congress members spanning the years 2020 to 2023. Accessible via [House Stock Watcher API](https://house-stock-watcher-data.s3-us-west-2.amazonaws.com/data/all_transactions.json), this data is conveniently available in JSON format, facilitating integration and analysis."
   ]
  },
  {
   "cell_type": "code",
   "execution_count": 1,
   "metadata": {},
   "outputs": [],
   "source": [
    "import requests\n",
    "import re\n",
    "import pandas as pd\n",
    "import matplotlib.pyplot as plt\n",
    "import seaborn as sns\n",
    "from colorama import Fore, Style\n",
    "from scipy.stats import ttest_ind"
   ]
  },
  {
   "cell_type": "code",
   "execution_count": null,
   "metadata": {
    "scrolled": true
   },
   "outputs": [],
   "source": [
    "## Get the data from the API and change it into Pandas DataFrame\n",
    "api_url = \"https://house-stock-watcher-data.s3-us-west-2.amazonaws.com/data/all_transactions.json\"\n",
    "response = requests.get(api_url)\n",
    "data = response.json()\n",
    "df = pd.DataFrame(data)\n",
    "df.head(3)"
   ]
  },
  {
   "cell_type": "markdown",
   "metadata": {},
   "source": [
    "Now that we have the data loaded, it's observable from the above printout that the column formats are different even where the information is the same e.g. the date columns; `disclosure_date` and `transaction_date`. We will trim and clean the data to make things as simple as possible when we get to the actual exploration. Cleaning the data makes sure that the data formats are consistent while trimming focuses only on the part of the data we are interested in to make the exploration easier to work with."
   ]
  },
  {
   "cell_type": "code",
   "execution_count": null,
   "metadata": {},
   "outputs": [],
   "source": [
    "# Select the columns relevant to the analysis\n",
    "columns_to_drop = [\"ticker\",\"asset_description\", \"ptr_link\", \"district\"]\n",
    "stocks = df.drop(columns = columns_to_drop)\n",
    "# Identify the indexes of the rows containing the problematic dates and drop them\n",
    "index1 = stocks[stocks[\"transaction_date\"] == \"0009-06-09\"].index\n",
    "index2 = stocks[stocks[\"transaction_date\"] == \"0022-11-23\"].index\n",
    "index3 = stocks[stocks[\"transaction_date\"] == \"0021-08-02\"].index\n",
    "index4 = stocks[stocks[\"transaction_date\"] == \"0222-11-22\"].index\n",
    "index5 = stocks[stocks[\"transaction_date\"] == \"0023-01-11\"].index\n",
    "index6 = stocks[stocks[\"transaction_date\"] == \"0021-06-22\"].index\n",
    "index7 = stocks[stocks[\"transaction_date\"] == \"0201-06-22\"].index\n",
    "index8 = stocks[stocks[\"transaction_date\"] == \"0222-11-02\"].index\n",
    "problematic_indexes = list(index1) + list(index2) + list(index3) + list(index4) + list(index5) + list(index6) + list(index7) + list(index8)\n",
    "stocks.drop(problematic_indexes, inplace = True)\n",
    "# Replace the incorrect dates with correct ones using .loc\n",
    "stocks.loc[stocks[\"transaction_date\"] == \"20222-08-09\", \"transaction_date\"] = \"2022-08-09\"\n",
    "stocks.loc[stocks[\"transaction_date\"] == \"20222-07-18\", \"transaction_date\"] = \"2022-07-18\"\n",
    "stocks.loc[stocks[\"transaction_date\"] == \"20222-11-16\", \"transaction_date\"] = \"2022-11-16\"\n",
    "stocks.loc[stocks[\"transaction_date\"] == \"20221-11-18\", \"transaction_date\"] = \"2021-11-18\"\n",
    "# Convert date columns to DateTime data type with specified formats\n",
    "stocks[\"disclosure_date\"] = pd.to_datetime(stocks[\"disclosure_date\"], format = \"%m/%d/%Y\")\n",
    "stocks[\"transaction_date\"] = pd.to_datetime(stocks[\"transaction_date\"], format = \"%Y-%m-%d\")\n",
    "stocks.head(3)"
   ]
  },
  {
   "cell_type": "markdown",
   "metadata": {},
   "source": [
    "<a id=\"eda\"></a>\n",
    "## Exploratory Data Analysis\n",
    "\n",
    "Now that we have the data wrangled, we're ready to start exploring the data. In this section, I will dive deep into our dataset to uncover patterns, trends, anomalies, and relationships that will provide valuable insights into our data. \n",
    "To begin the exploration, I will compute some descriptive statistics from the data, and then move into visualizations.\n",
    "\n",
    "<a id=\"stats\"></a>\n",
    "### Statistics\n",
    "\n",
    "First, let's compute some basic statistics from the data."
   ]
  },
  {
   "cell_type": "code",
   "execution_count": null,
   "metadata": {},
   "outputs": [],
   "source": [
    "def compute_descriptive_statistics(df):\n",
    "    total_transactions = len(df)\n",
    "\n",
    "    highest_transaction_rep = df['representative'].value_counts().idxmax()\n",
    "    highest_transaction_count = df['representative'].value_counts().max()\n",
    "\n",
    "    highest_transaction_party = df['party'].value_counts().idxmax()\n",
    "    highest_transaction_party_count = df['party'].value_counts().max()\n",
    "\n",
    "    most_common_amount = df['amount'].mode()[0]\n",
    "    most_common_amount_count = df['amount'].value_counts().max()\n",
    "    \n",
    "    most_common_sector = df['sector'].mode()[0]\n",
    "    most_common_industry = df['industry'].mode()[0]\n",
    "    most_common_transaction_type = df['type'].mode()[0]\n",
    "    most_common_owner = df['owner'].mode()[0]\n",
    "    most_common_state = df['state'].mode()[0]\n",
    "\n",
    "    # transactions_by_year = df['disclosure_year'].value_counts().to_dict()\n",
    "\n",
    "    party_groups = stocks.groupby(\"party\")\n",
    "    party_stats = party_groups[\"amount\"].describe()\n",
    "\n",
    "    print(\"Findings:\")\n",
    "    print(Fore.GREEN + f\"Total number of transactions: \" + Fore.RED + f\"{total_transactions}\")\n",
    "    print(Fore.GREEN + f\"Representative with the highest number of transactions: \" + Fore.RED +\n",
    "          f\"{highest_transaction_rep} ({highest_transaction_count} transactions)\")\n",
    "    print(Fore.GREEN + f\"Party with the highest number of transactions: \" + Fore.RED +\n",
    "          f\"{highest_transaction_party} ({highest_transaction_party_count} transactions)\")\n",
    "    print(Fore.GREEN + f\"Most common transaction amount: \" + Fore.RED +\n",
    "          f\"{most_common_amount} ({most_common_amount_count} transactions)\")\n",
    "    print(Fore.GREEN + f\"Sector with the most transactions: \" + Fore.RED + f\"{most_common_sector}\")\n",
    "    print(Fore.GREEN + f\"Industry with the most transactions: \" + Fore.RED + f\"{most_common_industry}\")\n",
    "    print(Fore.GREEN + f\"Most common transaction type: \" + Fore.RED + f\"{most_common_transaction_type}\")\n",
    "    print(Fore.GREEN + f\"Owner accounts that transacted most: \" + Fore.RED + f\"{most_common_owner}\")\n",
    "    print(Fore.GREEN + f\"State with most transactions: \" + Fore.RED + f\"{most_common_state}\")\n",
    "    # print(Fore.GREEN + \"\\nNumber of Stock Transactions by Year:\")\n",
    "    # for year, count in transactions_by_year.items():\n",
    "    #     print(Fore.RED + f\"{year}: {count}\")\n",
    "\n",
    "    print(Fore.GREEN + f\"Analyze transactions descriptive statistics for each party:\" + \"\\n \" + Fore.RED + f\"{party_stats}\")\n",
    "\n",
    "compute_descriptive_statistics(stocks)"
   ]
  },
  {
   "cell_type": "markdown",
   "metadata": {},
   "source": [
    "<a id=\"visuals\"></a>\n",
    "### Visualizations\n",
    "\n",
    "I will further explore the US Congress members' stock data using visualizations created with Matplotlib and Seaborn libraries. I aim to gain deeper insights into the stock transaction and understand the patterns and trends from the period 2020 to 2023.\n",
    "\n",
    "**1. Distribution of Transaction Amounts**\n",
    "\n",
    "Let's start by visualizing the distribution of transaction amounts to understand the range and frequency of transactions:"
   ]
  },
  {
   "cell_type": "code",
   "execution_count": null,
   "metadata": {},
   "outputs": [],
   "source": [
    "plt.figure(figsize=(12, 4))\n",
    "sns.histplot(stocks['amount'], kde=True)\n",
    "plt.title('Distribution of Transaction Amounts', color = 'royalblue', weight = 'bold')\n",
    "plt.xlabel('Amount ($)', color = 'lime')\n",
    "plt.ylabel('Frequency', color = 'lime')\n",
    "plt.xticks(rotation=90)\n",
    "plt.show()"
   ]
  },
  {
   "cell_type": "markdown",
   "metadata": {},
   "source": [
    "The Histogram above shows that most of the US Congress members' stock transaction amounts were in the range of $1000-$15000. This aligns with our calculation above where we found that 12079 transactions out of 17162 were in this range.\n",
    "The above plot has a kernel density estimate(KDE) which provides a smoothened representation of the underlying distribution of the transaction amounts. The data shape is right-skewed, indicating that most US Congress members' transactions have lower amounts, with a few transactions having higher amounts.\n",
    "\n",
    "**2. Distribution of transaction amounts by Party Affiliations**\n",
    "\n",
    "Let's now visualize the distribution of transaction amounts by party affiliations to see if there are any differences in trading behaviours among different political parties:"
   ]
  },
  {
   "cell_type": "code",
   "execution_count": null,
   "metadata": {},
   "outputs": [],
   "source": [
    "plt.figure(figsize=(12, 4))\n",
    "sns.histplot(data=stocks, x='amount', hue='party', kde=True, multiple='stack')\n",
    "plt.title('Distribution of Transaction Amounts by Party Affiliations', color='royalblue', weight='bold')\n",
    "plt.xlabel('Amount ($)', color='lime')\n",
    "plt.ylabel('Frequency', color='lime')\n",
    "plt.xticks(rotation=90)\n",
    "plt.show()"
   ]
  },
  {
   "cell_type": "markdown",
   "metadata": {},
   "source": [
    "The plot above shows that most transactions were carried out by Democrats, which aligns with our calculations from above where the Democrats had 10500 transactions. However, as the transaction amount increases, we see slightly more transactions by the Republicans."
   ]
  },
  {
   "cell_type": "markdown",
   "metadata": {},
   "source": [
    "**3. Distribution of transactions across different sectors**\n",
    "\n",
    "Here, I will explore the distribution of transactions across different sectors to identify which sectors are most frequently involved in stock transactions by Congress members."
   ]
  },
  {
   "cell_type": "code",
   "execution_count": null,
   "metadata": {},
   "outputs": [],
   "source": [
    "plt.figure(figsize=(12, 4))\n",
    "sns.countplot(data=stocks, y='sector')\n",
    "plt.title('Distribution of transactions across different sectors', color='royalblue', weight='bold')\n",
    "plt.xlabel('Number of Transactions', color='lime')\n",
    "plt.ylabel('Sector', color='lime')\n",
    "plt.show()"
   ]
  },
  {
   "cell_type": "markdown",
   "metadata": {},
   "source": [
    "From the above plot, we can see that the Technology sector had the most stock transactions by the Congress members. Other sectors like Health Care, Finance, Consumer Services, and Energy had higher transactions while sectors like Telecommunications, Basic Materials, and Consumer Staples had the least transactions."
   ]
  },
  {
   "cell_type": "markdown",
   "metadata": {},
   "source": [
    "**4. Distribution of transactions by year grouped by Party affiliations**\n",
    "\n",
    "I will further explore the data to observe the variation in  transaction activity among different political parties over the years. "
   ]
  },
  {
   "cell_type": "code",
   "execution_count": null,
   "metadata": {},
   "outputs": [],
   "source": [
    "plt.figure(figsize=(12, 4))\n",
    "sns.countplot(data=stocks, x='disclosure_year', hue='party')\n",
    "plt.title('Distribution of Transactions by Year Grouped by Party Affiliations', color='royalblue', weight='bold')\n",
    "plt.xlabel('Year', color='lime')\n",
    "plt.ylabel('Number of Transactions', color='lime')\n",
    "plt.xticks(rotation=45)\n",
    "plt.show()"
   ]
  },
  {
   "cell_type": "markdown",
   "metadata": {},
   "source": [
    "By examining the heights of the bars, we can see that the Democrats had more transactions across the years followed by the Republicans. Generally, the number of transactions decreased across the years with some parties such as the Jackson and Libertarian having little to no transactions across the years."
   ]
  },
  {
   "cell_type": "markdown",
   "metadata": {},
   "source": [
    "**5. Distributions of Transactions and Dislosures.**\n",
    "\n",
    "Here, we utilize a time-series plot to examine the counts of transactions and disclosures recorded on each respective date, providing insights into the frequency and distribution of these events in the data."
   ]
  },
  {
   "cell_type": "code",
   "execution_count": null,
   "metadata": {},
   "outputs": [],
   "source": [
    "transactions_by_transaction_date = stocks.groupby('transaction_date').size().reset_index(name='transaction_count')\n",
    "disclosures_by_disclosure_date = stocks.groupby('disclosure_date').size().reset_index(name='disclosure_count')\n",
    "\n",
    "plt.figure(figsize=(12, 4))\n",
    "plt.plot(transactions_by_transaction_date['transaction_date'], transactions_by_transaction_date['transaction_count'], color='royalblue', label='Transactions')\n",
    "plt.plot(disclosures_by_disclosure_date['disclosure_date'], disclosures_by_disclosure_date['disclosure_count'], color='orange', label='Disclosures')\n",
    "plt.title('Number of Transactions and Disclosures Over Time', color='royalblue', weight='bold')\n",
    "plt.xlabel('Date', color='lime')\n",
    "plt.ylabel('Count', color='lime')\n",
    "plt.legend()\n",
    "plt.grid(True)\n",
    "plt.xticks(rotation=45)\n",
    "plt.tight_layout()\n",
    "plt.show()"
   ]
  },
  {
   "cell_type": "markdown",
   "metadata": {},
   "source": [
    "Through the above visualization, we can see that the years 2012 to 2019 recorded some transactions with no disclosure until the year 2020 onwards, and the years 2019 to 2023 had the most transactions and disclosures."
   ]
  },
  {
   "cell_type": "markdown",
   "metadata": {},
   "source": [
    "<a id=\"#statistical\"></a>\n",
    "## Statistical Analysis\n",
    "\n",
    "In this section, I will delve into a comprehensive statistical analysis of the Congress members' stock data to uncover meaningful insights, patterns, and relationships within the data.\n",
    "\n",
    "To further understand the data, I will describe the number of stock transactions per year and determine which party, industry, sector, amount, owner type, state, type, and if there were capital gains in each year."
   ]
  },
  {
   "cell_type": "code",
   "execution_count": null,
   "metadata": {},
   "outputs": [],
   "source": [
    "transactions_by_year = stocks['disclosure_year'].value_counts().to_dict()\n",
    "print(Fore.GREEN + \"\\nNumber of Stock Transactions by Year:\")\n",
    "for year, count in transactions_by_year.items():\n",
    "    print(Fore.RED + f\"{year}: {count}\")"
   ]
  },
  {
   "cell_type": "code",
   "execution_count": null,
   "metadata": {},
   "outputs": [],
   "source": [
    "transactions_by_year_party = stocks.groupby(['disclosure_year', 'party']).size().unstack(fill_value=0)\n",
    "print(Fore.GREEN + \"Number of Stock Transactions by Year and Party:\")\n",
    "print(Fore.RED + f\"{transactions_by_year_party}\")"
   ]
  },
  {
   "cell_type": "code",
   "execution_count": null,
   "metadata": {},
   "outputs": [],
   "source": [
    "industries_by_year = stocks.groupby(['disclosure_year', 'industry']).size().reset_index(name='count')\n",
    "industries_by_year = industries_by_year.loc[industries_by_year.groupby('disclosure_year')['count'].idxmax()]\n",
    "\n",
    "print(Fore.GREEN + \"Industries Traded Most Each Year:\")\n",
    "print(Fore.RED + f\"{industries_by_year}\")"
   ]
  },
  {
   "cell_type": "code",
   "execution_count": null,
   "metadata": {},
   "outputs": [],
   "source": [
    "sectors_by_year = stocks.groupby(['disclosure_year', 'sector']).size().reset_index(name='count')\n",
    "sectors_by_year = sectors_by_year.loc[sectors_by_year.groupby('disclosure_year')['count'].idxmax()]\n",
    "\n",
    "print(Fore.GREEN + \"Sectors Traded Most Each Year:\")\n",
    "print(Fore.RED + f\"{sectors_by_year}\")"
   ]
  },
  {
   "cell_type": "code",
   "execution_count": null,
   "metadata": {},
   "outputs": [],
   "source": [
    "states_by_year = stocks.groupby(['disclosure_year', 'state']).size().reset_index(name='count')\n",
    "states_by_year = states_by_year.loc[states_by_year.groupby('disclosure_year')['count'].idxmax()]\n",
    "\n",
    "print(Fore.GREEN + \"States Traded Most Each Year:\")\n",
    "print(Fore.RED + f\"{states_by_year}\")"
   ]
  }
 ],
 "metadata": {
  "kernelspec": {
   "display_name": "myenv (Python 3.11.8)",
   "language": "python",
   "name": "myenv"
  },
  "language_info": {
   "codemirror_mode": {
    "name": "ipython",
    "version": 3
   },
   "file_extension": ".py",
   "mimetype": "text/x-python",
   "name": "python",
   "nbconvert_exporter": "python",
   "pygments_lexer": "ipython3",
   "version": "3.11.8"
  }
 },
 "nbformat": 4,
 "nbformat_minor": 4
}
