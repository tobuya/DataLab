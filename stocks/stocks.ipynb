{
 "cells": [
  {
   "cell_type": "markdown",
   "metadata": {},
   "source": [
    "# 2020 TO 2023 US Congress members' stock transactions analysis"
   ]
  },
  {
   "cell_type": "markdown",
   "metadata": {},
   "source": [
    "## Table of Contents\n",
    "- [Introduction and Posing Questions](#intro)\n",
    "- [Data Collection and Wrangling](#wrangle)"
   ]
  },
  {
   "cell_type": "markdown",
   "metadata": {},
   "source": [
    "<a id=\"intro\"></a>\n",
    "## Introduction and Posing Questions"
   ]
  },
  {
   "cell_type": "markdown",
   "metadata": {},
   "source": [
    "In this project, I will perform exploratory data analysis on the data provided by [House Stock Watcher](https://housestockwatcher.com/api) on the US Congress members' stock transactions for the years 2020, 2021, 2022, and 2023. The dataset includes various columns providing information on disclosure dates, transaction dates, asset details, transaction types, amounts, and other relevant attributes.\n",
    "I seek to uncover patterns, trends, and potential conflicts of interest within the data. As a result, I have developed thought-provoking questions that can guide my analysis and uncover meaningful insights:\n",
    "\n",
    "1. What are the primary motivations driving Congress members' stock transactions?\n",
    "   - How do demographic factors such as party affiliation, district representation, and state influence trading activities?\n",
    "   - Are there noticeable patterns in trading behavior based on transaction types such as purchases or sales?\n",
    "   - Can we identify any correlation such as transaction amount and party affiliations?  \n",
    "2. Are there observable trends in the frequency and volumes of stock transactions over multiple years?\n",
    "   - Do certain years exhibit higher trading activities among Congress members, and if so, what factors might contribute to these fluctuations?\n",
    "   - How does transaction volume vary across different sectors and industries, are there sectors that Congress members show a particular interest in?\n",
    "   - Can we identify any anomalies or spikes in trading activities warrant further investigation? \n",
    "3. Can we analyze the performance of Congress members' stock portfolios and identify any notable trends?\n",
    "   - How do capital gain from stock transactions vary across different party affiliations?\n",
    "   - Are there sectors that Congress members consistently realize higher capital gains, and what factors might explain these trends?\n",
    "4. How can we cross-analyze trends between data dimensions to uncover deeper insights?\n",
    "   - Are there correlations between transaction frequencies and demographic factors such as party affiliations or district representation?\n",
    "   - How do sector-specific trends in stock transactions correlate with party affiliations?\n",
    "   - Can we identify any systematic biases or patterns in trading activities that warrant further investigations?\n",
    "     "
   ]
  },
  {
   "cell_type": "markdown",
   "metadata": {},
   "source": [
    "<a id=\"wrangle\"></a>\n",
    "## Data Collection and Wrangling"
   ]
  },
  {
   "cell_type": "markdown",
   "metadata": {},
   "source": [
    "The data utilized in this project is sourced from [House Stock Watcher](https://housestockwatcher.com), offering comprehensive stock transaction information of US Congress members spanning the years 2020 to 2023. Accessible via [House Stock Watcher API](https://house-stock-watcher-data.s3-us-west-2.amazonaws.com/data/all_transactions.json), this data is conveniently available in JSON format, facilitating integration and analysis."
   ]
  },
  {
   "cell_type": "code",
   "execution_count": 1,
   "metadata": {},
   "outputs": [],
   "source": [
    "## Import the necessary packages\n",
    "import requests\n",
    "import pandas as pd\n",
    "import matplotlib.pyplot as plt"
   ]
  },
  {
   "cell_type": "code",
   "execution_count": 2,
   "metadata": {},
   "outputs": [
    {
     "data": {
      "text/html": [
       "<div>\n",
       "<style scoped>\n",
       "    .dataframe tbody tr th:only-of-type {\n",
       "        vertical-align: middle;\n",
       "    }\n",
       "\n",
       "    .dataframe tbody tr th {\n",
       "        vertical-align: top;\n",
       "    }\n",
       "\n",
       "    .dataframe thead th {\n",
       "        text-align: right;\n",
       "    }\n",
       "</style>\n",
       "<table border=\"1\" class=\"dataframe\">\n",
       "  <thead>\n",
       "    <tr style=\"text-align: right;\">\n",
       "      <th></th>\n",
       "      <th>disclosure_year</th>\n",
       "      <th>disclosure_date</th>\n",
       "      <th>transaction_date</th>\n",
       "      <th>owner</th>\n",
       "      <th>ticker</th>\n",
       "      <th>asset_description</th>\n",
       "      <th>type</th>\n",
       "      <th>amount</th>\n",
       "      <th>representative</th>\n",
       "      <th>district</th>\n",
       "      <th>state</th>\n",
       "      <th>ptr_link</th>\n",
       "      <th>cap_gains_over_200_usd</th>\n",
       "      <th>industry</th>\n",
       "      <th>sector</th>\n",
       "      <th>party</th>\n",
       "    </tr>\n",
       "  </thead>\n",
       "  <tbody>\n",
       "    <tr>\n",
       "      <th>16658</th>\n",
       "      <td>2022</td>\n",
       "      <td>09/08/2022</td>\n",
       "      <td>2022-08-19</td>\n",
       "      <td>joint</td>\n",
       "      <td>GOGL</td>\n",
       "      <td>Golden Ocean Group Limited</td>\n",
       "      <td>purchase</td>\n",
       "      <td>$1,001 - $15,000</td>\n",
       "      <td>Virginia Foxx</td>\n",
       "      <td>NC05</td>\n",
       "      <td>NC</td>\n",
       "      <td>https://disclosures-clerk.house.gov/public_dis...</td>\n",
       "      <td>False</td>\n",
       "      <td>Marine Transportation</td>\n",
       "      <td>Consumer Discretionary</td>\n",
       "      <td>Republican</td>\n",
       "    </tr>\n",
       "    <tr>\n",
       "      <th>15963</th>\n",
       "      <td>2022</td>\n",
       "      <td>03/23/2022</td>\n",
       "      <td>2022-03-09</td>\n",
       "      <td>joint</td>\n",
       "      <td>TMUS</td>\n",
       "      <td>T-Mobile US Inc</td>\n",
       "      <td>purchase</td>\n",
       "      <td>$1,001 - $15,000</td>\n",
       "      <td>John Curtis</td>\n",
       "      <td>UT03</td>\n",
       "      <td>UT</td>\n",
       "      <td>https://disclosures-clerk.house.gov/public_dis...</td>\n",
       "      <td>False</td>\n",
       "      <td>Telecommunications Equipment</td>\n",
       "      <td>Public Utilities</td>\n",
       "      <td>Republican</td>\n",
       "    </tr>\n",
       "    <tr>\n",
       "      <th>3713</th>\n",
       "      <td>2022</td>\n",
       "      <td>02/07/2022</td>\n",
       "      <td>2022-01-05</td>\n",
       "      <td>None</td>\n",
       "      <td>OWLSX</td>\n",
       "      <td>Old Westbury Large Cap Strategies Fund</td>\n",
       "      <td>sale_full</td>\n",
       "      <td>$15,001 - $50,000</td>\n",
       "      <td>Kurt Schrader</td>\n",
       "      <td>OR05</td>\n",
       "      <td>OR</td>\n",
       "      <td>https://disclosures-clerk.house.gov/public_dis...</td>\n",
       "      <td>False</td>\n",
       "      <td>None</td>\n",
       "      <td>None</td>\n",
       "      <td>Democrat</td>\n",
       "    </tr>\n",
       "  </tbody>\n",
       "</table>\n",
       "</div>"
      ],
      "text/plain": [
       "       disclosure_year disclosure_date transaction_date  owner ticker  \\\n",
       "16658             2022      09/08/2022       2022-08-19  joint   GOGL   \n",
       "15963             2022      03/23/2022       2022-03-09  joint   TMUS   \n",
       "3713              2022      02/07/2022       2022-01-05   None  OWLSX   \n",
       "\n",
       "                            asset_description       type             amount  \\\n",
       "16658              Golden Ocean Group Limited   purchase   $1,001 - $15,000   \n",
       "15963                         T-Mobile US Inc   purchase   $1,001 - $15,000   \n",
       "3713   Old Westbury Large Cap Strategies Fund  sale_full  $15,001 - $50,000   \n",
       "\n",
       "      representative district state  \\\n",
       "16658  Virginia Foxx     NC05    NC   \n",
       "15963    John Curtis     UT03    UT   \n",
       "3713   Kurt Schrader     OR05    OR   \n",
       "\n",
       "                                                ptr_link  \\\n",
       "16658  https://disclosures-clerk.house.gov/public_dis...   \n",
       "15963  https://disclosures-clerk.house.gov/public_dis...   \n",
       "3713   https://disclosures-clerk.house.gov/public_dis...   \n",
       "\n",
       "       cap_gains_over_200_usd                      industry  \\\n",
       "16658                   False         Marine Transportation   \n",
       "15963                   False  Telecommunications Equipment   \n",
       "3713                    False                          None   \n",
       "\n",
       "                       sector       party  \n",
       "16658  Consumer Discretionary  Republican  \n",
       "15963        Public Utilities  Republican  \n",
       "3713                     None    Democrat  "
      ]
     },
     "execution_count": 2,
     "metadata": {},
     "output_type": "execute_result"
    }
   ],
   "source": [
    "## Get the data from the API and change it into Pandas DataFrame\n",
    "api_url = \"https://house-stock-watcher-data.s3-us-west-2.amazonaws.com/data/all_transactions.json\"\n",
    "response = requests.get(api_url)\n",
    "data = response.json()\n",
    "df = pd.DataFrame(data)\n",
    "df.sample(3)"
   ]
  }
 ],
 "metadata": {
  "kernelspec": {
   "display_name": "Python 3 (ipykernel)",
   "language": "python",
   "name": "python3"
  },
  "language_info": {
   "codemirror_mode": {
    "name": "ipython",
    "version": 3
   },
   "file_extension": ".py",
   "mimetype": "text/x-python",
   "name": "python",
   "nbconvert_exporter": "python",
   "pygments_lexer": "ipython3",
   "version": "3.11.7"
  }
 },
 "nbformat": 4,
 "nbformat_minor": 4
}
